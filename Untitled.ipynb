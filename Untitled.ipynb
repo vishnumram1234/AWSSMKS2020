{
 "cells": [
  {
   "cell_type": "code",
   "execution_count": 1,
   "metadata": {},
   "outputs": [],
   "source": [
    "library(reticulate) \n",
    "sagemaker <- import('sagemaker')"
   ]
  },
  {
   "cell_type": "code",
   "execution_count": 2,
   "metadata": {},
   "outputs": [],
   "source": [
    "session <- sagemaker$Session() \n",
    "bucket <- session$default_bucket()"
   ]
  },
  {
   "cell_type": "code",
   "execution_count": 3,
   "metadata": {},
   "outputs": [],
   "source": [
    "role_arn <- sagemaker$get_execution_role()"
   ]
  },
  {
   "cell_type": "code",
   "execution_count": 4,
   "metadata": {},
   "outputs": [
    {
     "name": "stderr",
     "output_type": "stream",
     "text": [
      "Parsed with column specification:\n",
      "cols(\n",
      "  X1 = col_character(),\n",
      "  X2 = col_double(),\n",
      "  X3 = col_double(),\n",
      "  X4 = col_double(),\n",
      "  X5 = col_double(),\n",
      "  X6 = col_double(),\n",
      "  X7 = col_double(),\n",
      "  X8 = col_double(),\n",
      "  X9 = col_double()\n",
      ")\n"
     ]
    },
    {
     "data": {
      "text/html": [
       "<table>\n",
       "<thead><tr><th scope=col>sex</th><th scope=col>length</th><th scope=col>diameter</th><th scope=col>height</th><th scope=col>whole_weight</th><th scope=col>shucked_weight</th><th scope=col>viscera_weight</th><th scope=col>shell_weight</th><th scope=col>rings</th></tr></thead>\n",
       "<tbody>\n",
       "\t<tr><td>M     </td><td>0.455 </td><td>0.365 </td><td>0.095 </td><td>0.5140</td><td>0.2245</td><td>0.1010</td><td>0.150 </td><td>15    </td></tr>\n",
       "\t<tr><td>M     </td><td>0.350 </td><td>0.265 </td><td>0.090 </td><td>0.2255</td><td>0.0995</td><td>0.0485</td><td>0.070 </td><td> 7    </td></tr>\n",
       "\t<tr><td>F     </td><td>0.530 </td><td>0.420 </td><td>0.135 </td><td>0.6770</td><td>0.2565</td><td>0.1415</td><td>0.210 </td><td> 9    </td></tr>\n",
       "\t<tr><td>M     </td><td>0.440 </td><td>0.365 </td><td>0.125 </td><td>0.5160</td><td>0.2155</td><td>0.1140</td><td>0.155 </td><td>10    </td></tr>\n",
       "\t<tr><td>I     </td><td>0.330 </td><td>0.255 </td><td>0.080 </td><td>0.2050</td><td>0.0895</td><td>0.0395</td><td>0.055 </td><td> 7    </td></tr>\n",
       "\t<tr><td>I     </td><td>0.425 </td><td>0.300 </td><td>0.095 </td><td>0.3515</td><td>0.1410</td><td>0.0775</td><td>0.120 </td><td> 8    </td></tr>\n",
       "</tbody>\n",
       "</table>\n"
      ],
      "text/latex": [
       "\\begin{tabular}{r|lllllllll}\n",
       " sex & length & diameter & height & whole\\_weight & shucked\\_weight & viscera\\_weight & shell\\_weight & rings\\\\\n",
       "\\hline\n",
       "\t M      & 0.455  & 0.365  & 0.095  & 0.5140 & 0.2245 & 0.1010 & 0.150  & 15    \\\\\n",
       "\t M      & 0.350  & 0.265  & 0.090  & 0.2255 & 0.0995 & 0.0485 & 0.070  &  7    \\\\\n",
       "\t F      & 0.530  & 0.420  & 0.135  & 0.6770 & 0.2565 & 0.1415 & 0.210  &  9    \\\\\n",
       "\t M      & 0.440  & 0.365  & 0.125  & 0.5160 & 0.2155 & 0.1140 & 0.155  & 10    \\\\\n",
       "\t I      & 0.330  & 0.255  & 0.080  & 0.2050 & 0.0895 & 0.0395 & 0.055  &  7    \\\\\n",
       "\t I      & 0.425  & 0.300  & 0.095  & 0.3515 & 0.1410 & 0.0775 & 0.120  &  8    \\\\\n",
       "\\end{tabular}\n"
      ],
      "text/markdown": [
       "\n",
       "| sex | length | diameter | height | whole_weight | shucked_weight | viscera_weight | shell_weight | rings |\n",
       "|---|---|---|---|---|---|---|---|---|\n",
       "| M      | 0.455  | 0.365  | 0.095  | 0.5140 | 0.2245 | 0.1010 | 0.150  | 15     |\n",
       "| M      | 0.350  | 0.265  | 0.090  | 0.2255 | 0.0995 | 0.0485 | 0.070  |  7     |\n",
       "| F      | 0.530  | 0.420  | 0.135  | 0.6770 | 0.2565 | 0.1415 | 0.210  |  9     |\n",
       "| M      | 0.440  | 0.365  | 0.125  | 0.5160 | 0.2155 | 0.1140 | 0.155  | 10     |\n",
       "| I      | 0.330  | 0.255  | 0.080  | 0.2050 | 0.0895 | 0.0395 | 0.055  |  7     |\n",
       "| I      | 0.425  | 0.300  | 0.095  | 0.3515 | 0.1410 | 0.0775 | 0.120  |  8     |\n",
       "\n"
      ],
      "text/plain": [
       "  sex length diameter height whole_weight shucked_weight viscera_weight\n",
       "1 M   0.455  0.365    0.095  0.5140       0.2245         0.1010        \n",
       "2 M   0.350  0.265    0.090  0.2255       0.0995         0.0485        \n",
       "3 F   0.530  0.420    0.135  0.6770       0.2565         0.1415        \n",
       "4 M   0.440  0.365    0.125  0.5160       0.2155         0.1140        \n",
       "5 I   0.330  0.255    0.080  0.2050       0.0895         0.0395        \n",
       "6 I   0.425  0.300    0.095  0.3515       0.1410         0.0775        \n",
       "  shell_weight rings\n",
       "1 0.150        15   \n",
       "2 0.070         7   \n",
       "3 0.210         9   \n",
       "4 0.155        10   \n",
       "5 0.055         7   \n",
       "6 0.120         8   "
      ]
     },
     "metadata": {},
     "output_type": "display_data"
    }
   ],
   "source": [
    "library(readr)\n",
    "data_file <- 'http://archive.ics.uci.edu/ml/machine-learning-databases/abalone/abalone.data'\n",
    "abalone <- read_csv(file = data_file, col_names = FALSE)\n",
    "names(abalone) <- c('sex', 'length', 'diameter', 'height', 'whole_weight', 'shucked_weight', 'viscera_weight', 'shell_weight', 'rings')\n",
    "head(abalone)"
   ]
  },
  {
   "cell_type": "code",
   "execution_count": 5,
   "metadata": {},
   "outputs": [
    {
     "data": {
      "text/plain": [
       " sex          length         diameter          height        whole_weight   \n",
       " F:1307   Min.   :0.075   Min.   :0.0550   Min.   :0.0000   Min.   :0.0020  \n",
       " I:1342   1st Qu.:0.450   1st Qu.:0.3500   1st Qu.:0.1150   1st Qu.:0.4415  \n",
       " M:1528   Median :0.545   Median :0.4250   Median :0.1400   Median :0.7995  \n",
       "          Mean   :0.524   Mean   :0.4079   Mean   :0.1395   Mean   :0.8287  \n",
       "          3rd Qu.:0.615   3rd Qu.:0.4800   3rd Qu.:0.1650   3rd Qu.:1.1530  \n",
       "          Max.   :0.815   Max.   :0.6500   Max.   :1.1300   Max.   :2.8255  \n",
       " shucked_weight   viscera_weight    shell_weight        rings       \n",
       " Min.   :0.0010   Min.   :0.0005   Min.   :0.0015   Min.   : 1.000  \n",
       " 1st Qu.:0.1860   1st Qu.:0.0935   1st Qu.:0.1300   1st Qu.: 8.000  \n",
       " Median :0.3360   Median :0.1710   Median :0.2340   Median : 9.000  \n",
       " Mean   :0.3594   Mean   :0.1806   Mean   :0.2388   Mean   : 9.934  \n",
       " 3rd Qu.:0.5020   3rd Qu.:0.2530   3rd Qu.:0.3290   3rd Qu.:11.000  \n",
       " Max.   :1.4880   Max.   :0.7600   Max.   :1.0050   Max.   :29.000  "
      ]
     },
     "metadata": {},
     "output_type": "display_data"
    }
   ],
   "source": [
    "abalone$sex <- as.factor(abalone$sex)\n",
    "summary(abalone)"
   ]
  },
  {
   "cell_type": "code",
   "execution_count": 6,
   "metadata": {},
   "outputs": [
    {
     "name": "stderr",
     "output_type": "stream",
     "text": [
      "Registered S3 methods overwritten by 'ggplot2':\n",
      "  method         from \n",
      "  [.quosures     rlang\n",
      "  c.quosures     rlang\n",
      "  print.quosures rlang\n"
     ]
    },
    {
     "data": {
      "image/png": "[encoded data removed]",
      "text/plain": [
       "plot without title"
      ]
     },
     "metadata": {},
     "output_type": "display_data"
    }
   ],
   "source": [
    "library(ggplot2) \n",
    "options(repr.plot.width = 5, repr.plot.height = 4) \n",
    "ggplot(abalone, aes(x = height, y = rings, color = sex)) + geom_point() + geom_jitter()"
   ]
  },
  {
   "cell_type": "code",
   "execution_count": 7,
   "metadata": {},
   "outputs": [
    {
     "name": "stderr",
     "output_type": "stream",
     "text": [
      "\n",
      "Attaching package: ‘dplyr’\n",
      "\n",
      "The following objects are masked from ‘package:stats’:\n",
      "\n",
      "    filter, lag\n",
      "\n",
      "The following objects are masked from ‘package:base’:\n",
      "\n",
      "    intersect, setdiff, setequal, union\n",
      "\n"
     ]
    }
   ],
   "source": [
    "library(dplyr)\n",
    "abalone <- abalone %>%\n",
    "  filter(height != 0)"
   ]
  },
  {
   "cell_type": "code",
   "execution_count": 8,
   "metadata": {},
   "outputs": [
    {
     "data": {
      "text/html": [
       "<table>\n",
       "<thead><tr><th scope=col>rings</th><th scope=col>female</th><th scope=col>male</th><th scope=col>infant</th><th scope=col>length</th><th scope=col>diameter</th><th scope=col>height</th><th scope=col>whole_weight</th><th scope=col>shucked_weight</th><th scope=col>viscera_weight</th><th scope=col>shell_weight</th></tr></thead>\n",
       "<tbody>\n",
       "\t<tr><td>15    </td><td>0     </td><td>1     </td><td>0     </td><td>0.455 </td><td>0.365 </td><td>0.095 </td><td>0.5140</td><td>0.2245</td><td>0.1010</td><td>0.150 </td></tr>\n",
       "\t<tr><td> 7    </td><td>0     </td><td>1     </td><td>0     </td><td>0.350 </td><td>0.265 </td><td>0.090 </td><td>0.2255</td><td>0.0995</td><td>0.0485</td><td>0.070 </td></tr>\n",
       "\t<tr><td> 9    </td><td>1     </td><td>0     </td><td>0     </td><td>0.530 </td><td>0.420 </td><td>0.135 </td><td>0.6770</td><td>0.2565</td><td>0.1415</td><td>0.210 </td></tr>\n",
       "\t<tr><td>10    </td><td>0     </td><td>1     </td><td>0     </td><td>0.440 </td><td>0.365 </td><td>0.125 </td><td>0.5160</td><td>0.2155</td><td>0.1140</td><td>0.155 </td></tr>\n",
       "\t<tr><td> 7    </td><td>0     </td><td>0     </td><td>1     </td><td>0.330 </td><td>0.255 </td><td>0.080 </td><td>0.2050</td><td>0.0895</td><td>0.0395</td><td>0.055 </td></tr>\n",
       "\t<tr><td> 8    </td><td>0     </td><td>0     </td><td>1     </td><td>0.425 </td><td>0.300 </td><td>0.095 </td><td>0.3515</td><td>0.1410</td><td>0.0775</td><td>0.120 </td></tr>\n",
       "</tbody>\n",
       "</table>\n"
      ],
      "text/latex": [
       "\\begin{tabular}{r|lllllllllll}\n",
       " rings & female & male & infant & length & diameter & height & whole\\_weight & shucked\\_weight & viscera\\_weight & shell\\_weight\\\\\n",
       "\\hline\n",
       "\t 15     & 0      & 1      & 0      & 0.455  & 0.365  & 0.095  & 0.5140 & 0.2245 & 0.1010 & 0.150 \\\\\n",
       "\t  7     & 0      & 1      & 0      & 0.350  & 0.265  & 0.090  & 0.2255 & 0.0995 & 0.0485 & 0.070 \\\\\n",
       "\t  9     & 1      & 0      & 0      & 0.530  & 0.420  & 0.135  & 0.6770 & 0.2565 & 0.1415 & 0.210 \\\\\n",
       "\t 10     & 0      & 1      & 0      & 0.440  & 0.365  & 0.125  & 0.5160 & 0.2155 & 0.1140 & 0.155 \\\\\n",
       "\t  7     & 0      & 0      & 1      & 0.330  & 0.255  & 0.080  & 0.2050 & 0.0895 & 0.0395 & 0.055 \\\\\n",
       "\t  8     & 0      & 0      & 1      & 0.425  & 0.300  & 0.095  & 0.3515 & 0.1410 & 0.0775 & 0.120 \\\\\n",
       "\\end{tabular}\n"
      ],
      "text/markdown": [
       "\n",
       "| rings | female | male | infant | length | diameter | height | whole_weight | shucked_weight | viscera_weight | shell_weight |\n",
       "|---|---|---|---|---|---|---|---|---|---|---|\n",
       "| 15     | 0      | 1      | 0      | 0.455  | 0.365  | 0.095  | 0.5140 | 0.2245 | 0.1010 | 0.150  |\n",
       "|  7     | 0      | 1      | 0      | 0.350  | 0.265  | 0.090  | 0.2255 | 0.0995 | 0.0485 | 0.070  |\n",
       "|  9     | 1      | 0      | 0      | 0.530  | 0.420  | 0.135  | 0.6770 | 0.2565 | 0.1415 | 0.210  |\n",
       "| 10     | 0      | 1      | 0      | 0.440  | 0.365  | 0.125  | 0.5160 | 0.2155 | 0.1140 | 0.155  |\n",
       "|  7     | 0      | 0      | 1      | 0.330  | 0.255  | 0.080  | 0.2050 | 0.0895 | 0.0395 | 0.055  |\n",
       "|  8     | 0      | 0      | 1      | 0.425  | 0.300  | 0.095  | 0.3515 | 0.1410 | 0.0775 | 0.120  |\n",
       "\n"
      ],
      "text/plain": [
       "  rings female male infant length diameter height whole_weight shucked_weight\n",
       "1 15    0      1    0      0.455  0.365    0.095  0.5140       0.2245        \n",
       "2  7    0      1    0      0.350  0.265    0.090  0.2255       0.0995        \n",
       "3  9    1      0    0      0.530  0.420    0.135  0.6770       0.2565        \n",
       "4 10    0      1    0      0.440  0.365    0.125  0.5160       0.2155        \n",
       "5  7    0      0    1      0.330  0.255    0.080  0.2050       0.0895        \n",
       "6  8    0      0    1      0.425  0.300    0.095  0.3515       0.1410        \n",
       "  viscera_weight shell_weight\n",
       "1 0.1010         0.150       \n",
       "2 0.0485         0.070       \n",
       "3 0.1415         0.210       \n",
       "4 0.1140         0.155       \n",
       "5 0.0395         0.055       \n",
       "6 0.0775         0.120       "
      ]
     },
     "metadata": {},
     "output_type": "display_data"
    }
   ],
   "source": [
    "abalone <- abalone %>%\n",
    "  mutate(female = as.integer(ifelse(sex == 'F', 1, 0)),\n",
    "         male = as.integer(ifelse(sex == 'M', 1, 0)),\n",
    "         infant = as.integer(ifelse(sex == 'I', 1, 0))) %>%\n",
    "  select(-sex)\n",
    "abalone <- abalone %>%\n",
    "  select(rings:infant, length:shell_weight)\n",
    "head(abalone)"
   ]
  },
  {
   "cell_type": "code",
   "execution_count": 9,
   "metadata": {},
   "outputs": [
    {
     "name": "stderr",
     "output_type": "stream",
     "text": [
      "Joining, by = c(\"rings\", \"female\", \"male\", \"infant\", \"length\", \"diameter\", \"height\", \"whole_weight\", \"shucked_weight\", \"viscera_weight\", \"shell_weight\")\n",
      "Joining, by = c(\"rings\", \"female\", \"male\", \"infant\", \"length\", \"diameter\", \"height\", \"whole_weight\", \"shucked_weight\", \"viscera_weight\", \"shell_weight\")\n"
     ]
    }
   ],
   "source": [
    "abalone_train <- abalone %>%\n",
    "  sample_frac(size = 0.7)\n",
    "abalone <- anti_join(abalone, abalone_train)\n",
    "abalone_test <- abalone %>%\n",
    "  sample_frac(size = 0.5)\n",
    "abalone_valid <- anti_join(abalone, abalone_test)"
   ]
  },
  {
   "cell_type": "code",
   "execution_count": 10,
   "metadata": {},
   "outputs": [],
   "source": [
    "write_csv(abalone_train, 'abalone_train.csv', col_names = FALSE) \n",
    "write_csv(abalone_valid, 'abalone_valid.csv', col_names = FALSE)"
   ]
  },
  {
   "cell_type": "code",
   "execution_count": 11,
   "metadata": {},
   "outputs": [],
   "source": [
    "s3_train <- session$upload_data(path = 'abalone_train.csv', \n",
    "                                bucket = bucket, \n",
    "                                key_prefix = 'data')\n",
    "s3_valid <- session$upload_data(path = 'abalone_valid.csv', \n",
    "                                bucket = bucket, \n",
    "                                key_prefix = 'data')"
   ]
  },
  {
   "cell_type": "code",
   "execution_count": 12,
   "metadata": {},
   "outputs": [],
   "source": [
    "s3_train_input <- sagemaker$s3_input(s3_data = s3_train, content_type = 'csv') \n",
    "s3_valid_input <- sagemaker$s3_input(s3_data = s3_valid, content_type = 'csv')"
   ]
  },
  {
   "cell_type": "code",
   "execution_count": 13,
   "metadata": {},
   "outputs": [
    {
     "data": {
      "text/html": [
       "'811284229777.dkr.ecr.us-east-1.amazonaws.com/xgboost:latest'"
      ],
      "text/latex": [
       "'811284229777.dkr.ecr.us-east-1.amazonaws.com/xgboost:latest'"
      ],
      "text/markdown": [
       "'811284229777.dkr.ecr.us-east-1.amazonaws.com/xgboost:latest'"
      ],
      "text/plain": [
       "[1] \"811284229777.dkr.ecr.us-east-1.amazonaws.com/xgboost:latest\""
      ]
     },
     "metadata": {},
     "output_type": "display_data"
    }
   ],
   "source": [
    "registry <- sagemaker$amazon$amazon_estimator$registry(session$boto_region_name, algorithm='xgboost')\n",
    "container <- paste(registry, '/xgboost:latest', sep='')\n",
    "container"
   ]
  },
  {
   "cell_type": "code",
   "execution_count": 14,
   "metadata": {},
   "outputs": [],
   "source": [
    "s3_output <- paste0('s3://', bucket, '/output')\n",
    "estimator <- sagemaker$estimator$Estimator(image_name = container,\n",
    "                                     role = role_arn,\n",
    "                                     train_instance_count = 1L,\n",
    "                                     train_instance_type = 'ml.m5.large',\n",
    "                                     train_volume_size = 30L,\n",
    "                                     train_max_run = 3600L,\n",
    "                                     input_mode = 'File',\n",
    "                                     output_path = s3_output,\n",
    "                                     output_kms_key = NULL,\n",
    "                                     base_job_name = NULL,\n",
    "                                     sagemaker_session = NULL)"
   ]
  },
  {
   "cell_type": "code",
   "execution_count": 15,
   "metadata": {},
   "outputs": [],
   "source": [
    "estimator$set_hyperparameters(num_round = 100L)\n",
    "\n",
    "job_name <- paste('sagemaker-train-xgboost', format(Sys.time(), '%H-%M-%S'), sep = '-')\n",
    "\n",
    "input_data <- list('train' = s3_train_input,\n",
    "                   'validation' = s3_valid_input)\n",
    "\n",
    "estimator$fit(inputs = input_data,\n",
    "              job_name = job_name)"
   ]
  },
  {
   "cell_type": "code",
   "execution_count": 16,
   "metadata": {},
   "outputs": [
    {
     "data": {
      "text/html": [
       "'s3://sagemaker-us-east-1-020469022719/output/sagemaker-train-xgboost-21-41-02/output/model.tar.gz'"
      ],
      "text/latex": [
       "'s3://sagemaker-us-east-1-020469022719/output/sagemaker-train-xgboost-21-41-02/output/model.tar.gz'"
      ],
      "text/markdown": [
       "'s3://sagemaker-us-east-1-020469022719/output/sagemaker-train-xgboost-21-41-02/output/model.tar.gz'"
      ],
      "text/plain": [
       "[1] \"s3://sagemaker-us-east-1-020469022719/output/sagemaker-train-xgboost-21-41-02/output/model.tar.gz\""
      ]
     },
     "metadata": {},
     "output_type": "display_data"
    }
   ],
   "source": [
    "estimator$model_data"
   ]
  },
  {
   "cell_type": "code",
   "execution_count": 17,
   "metadata": {},
   "outputs": [],
   "source": [
    "model_endpoint <- estimator$deploy(initial_instance_count = 1L,\n",
    "                                   instance_type = 'ml.t2.medium')"
   ]
  },
  {
   "cell_type": "code",
   "execution_count": 18,
   "metadata": {},
   "outputs": [],
   "source": [
    "model_endpoint$content_type <- 'text/csv'\n",
    "model_endpoint$serializer <- sagemaker$predictor$csv_serializer"
   ]
  },
  {
   "cell_type": "code",
   "execution_count": 19,
   "metadata": {},
   "outputs": [],
   "source": [
    "abalone_test <- abalone_test[-1]\n",
    "num_predict_rows <- 500\n",
    "test_sample <- as.matrix(abalone_test[1:num_predict_rows, ])\n",
    "dimnames(test_sample)[[2]] <- NULL"
   ]
  },
  {
   "cell_type": "code",
   "execution_count": 20,
   "metadata": {},
   "outputs": [],
   "source": [
    "library(stringr)\n",
    "predictions <- model_endpoint$predict(test_sample)\n",
    "predictions <- str_split(predictions, pattern = ',', simplify = TRUE)\n",
    "predictions <- as.numeric(predictions)"
   ]
  },
  {
   "cell_type": "code",
   "execution_count": 21,
   "metadata": {},
   "outputs": [
    {
     "data": {
      "text/html": [
       "<table>\n",
       "<thead><tr><th scope=col>predicted_rings</th><th scope=col>female</th><th scope=col>male</th><th scope=col>infant</th><th scope=col>length</th><th scope=col>diameter</th><th scope=col>height</th><th scope=col>whole_weight</th><th scope=col>shucked_weight</th><th scope=col>viscera_weight</th><th scope=col>shell_weight</th></tr></thead>\n",
       "<tbody>\n",
       "\t<tr><td> 6    </td><td>0     </td><td>0     </td><td>1     </td><td>0.290 </td><td>0.215 </td><td>0.060 </td><td>0.1115</td><td>0.0530</td><td>0.0185</td><td>0.0320</td></tr>\n",
       "\t<tr><td> 6    </td><td>0     </td><td>0     </td><td>1     </td><td>0.260 </td><td>0.205 </td><td>0.070 </td><td>0.0970</td><td>0.0415</td><td>0.0190</td><td>0.0305</td></tr>\n",
       "\t<tr><td> 6    </td><td>0     </td><td>0     </td><td>1     </td><td>0.375 </td><td>0.280 </td><td>0.080 </td><td>0.2260</td><td>0.1050</td><td>0.0470</td><td>0.0650</td></tr>\n",
       "\t<tr><td>12    </td><td>1     </td><td>0     </td><td>0     </td><td>0.520 </td><td>0.405 </td><td>0.125 </td><td>0.6435</td><td>0.2415</td><td>0.1735</td><td>0.2100</td></tr>\n",
       "\t<tr><td>16    </td><td>0     </td><td>1     </td><td>0     </td><td>0.610 </td><td>0.500 </td><td>0.240 </td><td>1.6420</td><td>0.5320</td><td>0.3345</td><td>0.6900</td></tr>\n",
       "\t<tr><td>19    </td><td>1     </td><td>0     </td><td>0     </td><td>0.685 </td><td>0.525 </td><td>0.175 </td><td>1.7100</td><td>0.5415</td><td>0.3090</td><td>0.5800</td></tr>\n",
       "</tbody>\n",
       "</table>\n"
      ],
      "text/latex": [
       "\\begin{tabular}{r|lllllllllll}\n",
       " predicted\\_rings & female & male & infant & length & diameter & height & whole\\_weight & shucked\\_weight & viscera\\_weight & shell\\_weight\\\\\n",
       "\\hline\n",
       "\t  6     & 0      & 0      & 1      & 0.290  & 0.215  & 0.060  & 0.1115 & 0.0530 & 0.0185 & 0.0320\\\\\n",
       "\t  6     & 0      & 0      & 1      & 0.260  & 0.205  & 0.070  & 0.0970 & 0.0415 & 0.0190 & 0.0305\\\\\n",
       "\t  6     & 0      & 0      & 1      & 0.375  & 0.280  & 0.080  & 0.2260 & 0.1050 & 0.0470 & 0.0650\\\\\n",
       "\t 12     & 1      & 0      & 0      & 0.520  & 0.405  & 0.125  & 0.6435 & 0.2415 & 0.1735 & 0.2100\\\\\n",
       "\t 16     & 0      & 1      & 0      & 0.610  & 0.500  & 0.240  & 1.6420 & 0.5320 & 0.3345 & 0.6900\\\\\n",
       "\t 19     & 1      & 0      & 0      & 0.685  & 0.525  & 0.175  & 1.7100 & 0.5415 & 0.3090 & 0.5800\\\\\n",
       "\\end{tabular}\n"
      ],
      "text/markdown": [
       "\n",
       "| predicted_rings | female | male | infant | length | diameter | height | whole_weight | shucked_weight | viscera_weight | shell_weight |\n",
       "|---|---|---|---|---|---|---|---|---|---|---|\n",
       "|  6     | 0      | 0      | 1      | 0.290  | 0.215  | 0.060  | 0.1115 | 0.0530 | 0.0185 | 0.0320 |\n",
       "|  6     | 0      | 0      | 1      | 0.260  | 0.205  | 0.070  | 0.0970 | 0.0415 | 0.0190 | 0.0305 |\n",
       "|  6     | 0      | 0      | 1      | 0.375  | 0.280  | 0.080  | 0.2260 | 0.1050 | 0.0470 | 0.0650 |\n",
       "| 12     | 1      | 0      | 0      | 0.520  | 0.405  | 0.125  | 0.6435 | 0.2415 | 0.1735 | 0.2100 |\n",
       "| 16     | 0      | 1      | 0      | 0.610  | 0.500  | 0.240  | 1.6420 | 0.5320 | 0.3345 | 0.6900 |\n",
       "| 19     | 1      | 0      | 0      | 0.685  | 0.525  | 0.175  | 1.7100 | 0.5415 | 0.3090 | 0.5800 |\n",
       "\n"
      ],
      "text/plain": [
       "  predicted_rings female male infant length diameter height whole_weight\n",
       "1  6              0      0    1      0.290  0.215    0.060  0.1115      \n",
       "2  6              0      0    1      0.260  0.205    0.070  0.0970      \n",
       "3  6              0      0    1      0.375  0.280    0.080  0.2260      \n",
       "4 12              1      0    0      0.520  0.405    0.125  0.6435      \n",
       "5 16              0      1    0      0.610  0.500    0.240  1.6420      \n",
       "6 19              1      0    0      0.685  0.525    0.175  1.7100      \n",
       "  shucked_weight viscera_weight shell_weight\n",
       "1 0.0530         0.0185         0.0320      \n",
       "2 0.0415         0.0190         0.0305      \n",
       "3 0.1050         0.0470         0.0650      \n",
       "4 0.2415         0.1735         0.2100      \n",
       "5 0.5320         0.3345         0.6900      \n",
       "6 0.5415         0.3090         0.5800      "
      ]
     },
     "metadata": {},
     "output_type": "display_data"
    }
   ],
   "source": [
    "# Convert predictions to Integer\n",
    "abalone_test <- cbind(predicted_rings = as.integer(predictions), \n",
    "                      abalone_test[1:num_predict_rows, ])\n",
    "head(abalone_test)"
   ]
  },
  {
   "cell_type": "code",
   "execution_count": null,
   "metadata": {},
   "outputs": [],
   "source": [
    "#session$delete_endpoint(model_endpoint$endpoint)"
   ]
  }
 ],
 "metadata": {
  "kernelspec": {
   "display_name": "R",
   "language": "R",
   "name": "ir"
  },
  "language_info": {
   "codemirror_mode": "r",
   "file_extension": ".r",
   "mimetype": "text/x-r-source",
   "name": "R",
   "pygments_lexer": "r",
   "version": "3.6.1"
  }
 },
 "nbformat": 4,
 "nbformat_minor": 4
}
